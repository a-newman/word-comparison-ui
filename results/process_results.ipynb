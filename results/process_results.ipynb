{
 "cells": [
  {
   "cell_type": "code",
   "execution_count": 4,
   "metadata": {},
   "outputs": [],
   "source": [
    "sentinals = [\n",
    "    [\"big\", \"small\"],\n",
    "    [\"huge\", \"tiny\"]\n",
    "]"
   ]
  },
  {
   "cell_type": "code",
   "execution_count": 24,
   "metadata": {},
   "outputs": [],
   "source": [
    "def pair_equals(pair1, pair2): \n",
    "    s1 = sorted(pair1)\n",
    "    s2 = sorted(pair2)\n",
    "    return s1[0] == s2[0] and s1[1] == s2[1]"
   ]
  },
  {
   "cell_type": "code",
   "execution_count": 33,
   "metadata": {},
   "outputs": [],
   "source": [
    "def is_repeat(pair, pairs): \n",
    "    return any(pair_equals(pair, p) for p in pairs)"
   ]
  },
  {
   "cell_type": "code",
   "execution_count": 39,
   "metadata": {},
   "outputs": [],
   "source": [
    "def check_correctly_formed_results(response): \n",
    "    result = response['results']\n",
    "    seen = []\n",
    "    num_repeats = 0\n",
    "    num_sentinals = 0\n",
    "    for i in range(len(result['inputs'])): \n",
    "        input_pair = result['inputs'][i]\n",
    "        choice = result['outputs'][i]\n",
    "        assert choice == input_pair[0] or choice == input_pair[1]\n",
    "        is_rhs = choice == input_pair[1]\n",
    "        if is_repeat(input_pair, seen): \n",
    "            print(input_pair, seen)\n",
    "            num_repeats += 1\n",
    "            continue\n",
    "        if is_repeat(input_pair, sentinals): \n",
    "            num_sentinals += 1\n",
    "            continue\n",
    "        seen.append(input_pair)\n",
    "    print(\"num_repeats\", num_repeats)\n",
    "    print(\"num_sentinals\", num_sentinals)\n",
    "    assert num_repeats == 2\n",
    "    assert num_sentinals == 2\n",
    "        \n",
    "        # check for valid sentinals \n",
    "        "
   ]
  },
  {
   "cell_type": "code",
   "execution_count": 1,
   "metadata": {},
   "outputs": [],
   "source": [
    "import json\n",
    "with open('results.json', 'r') as infile: \n",
    "    results = json.load(infile)"
   ]
  },
  {
   "cell_type": "code",
   "execution_count": null,
   "metadata": {},
   "outputs": [],
   "source": [
    "for elt in results: \n",
    "    check_correctly_formed_results(elt)"
   ]
  },
  {
   "cell_type": "code",
   "execution_count": 3,
   "metadata": {},
   "outputs": [
    {
     "name": "stdout",
     "output_type": "stream",
     "text": [
      "{'feedback': None, 'workerId': 'A1G9Z0CL537336', 'HITId': '3P520RYKCHF2UL892LPJA5TG0S35UP', 'results': {'outputs': ['rapid', 'dramatic', 'gradual', 'huge', 'steep', 'negligible', 'gentle', 'negligible', 'noticeable', 'substantial', 'slight', 'gentle', 'considerable', 'dramatic', 'substantial', 'modest', 'modest', 'negligible', 'rapid', 'consistent', 'small', 'sudden', 'small', 'sharp', 'huge', 'sudden', 'dramatic', 'marginal', 'big', 'dramatic', 'dramatic'], 'inputs': [['consistent', 'rapid'], ['small', 'dramatic'], ['gradual', 'small'], ['huge', 'tiny'], ['steep', 'sharp'], ['steep', 'negligible'], ['dramatic', 'gentle'], ['modest', 'negligible'], ['steep', 'noticeable'], ['noticeable', 'substantial'], ['negligible', 'slight'], ['noticeable', 'gentle'], ['huge', 'considerable'], ['considerable', 'dramatic'], ['sharp', 'substantial'], ['negligible', 'modest'], ['marginal', 'modest'], ['marginal', 'negligible'], ['consistent', 'rapid'], ['marked', 'consistent'], ['marked', 'small'], ['marginal', 'sudden'], ['large', 'small'], ['considerable', 'sharp'], ['consistent', 'huge'], ['considerable', 'sudden'], ['negligible', 'dramatic'], ['gentle', 'marginal'], ['small', 'big'], ['gradual', 'dramatic']]}}\n",
      "{'feedback': 'great! ', 'workerId': 'A1G9Z0CL537336', 'HITId': '329E6HTMSWBLDAGTUOXOPLMYK5E3K0', 'results': {'outputs': ['big', 'marked', 'marked', 'sudden', 'steep', 'noticeable', 'dramatic', 'large', 'rapid', 'modest', 'modest', 'marked', 'substantial', 'rapid', 'huge', 'large', 'significant', 'significant', 'large', 'sudden', 'huge', 'substantial', 'significant', 'large', 'large', 'rapid', 'sharp', 'marginal', 'dramatic', 'rapid', 'rapid'], 'inputs': [['small', 'big'], ['negligible', 'marked'], ['noticeable', 'marked'], ['slow', 'sudden'], ['steep', 'marked'], ['negligible', 'noticeable'], ['dramatic', 'marked'], ['large', 'significant'], ['rapid', 'substantial'], ['modest', 'slow'], ['slow', 'modest'], ['steady', 'marked'], ['substantial', 'sudden'], ['sharp', 'rapid'], ['huge', 'tiny'], ['marked', 'large'], ['gentle', 'significant'], ['marginal', 'significant'], ['large', 'marked'], ['slow', 'sudden'], ['marked', 'huge'], ['substantial', 'significant'], ['significant', 'noticeable'], ['large', 'gradual'], ['large', 'consistent'], ['rapid', 'marked'], ['negligible', 'sharp'], ['slow', 'marginal'], ['dramatic', 'noticeable'], ['rapid', 'slow']]}}\n"
     ]
    }
   ],
   "source": [
    "for elt in results: \n",
    "    print(elt)"
   ]
  },
  {
   "cell_type": "code",
   "execution_count": null,
   "metadata": {},
   "outputs": [],
   "source": []
  }
 ],
 "metadata": {
  "kernelspec": {
   "display_name": "Python 3",
   "language": "python",
   "name": "python3"
  },
  "language_info": {
   "codemirror_mode": {
    "name": "ipython",
    "version": 3
   },
   "file_extension": ".py",
   "mimetype": "text/x-python",
   "name": "python",
   "nbconvert_exporter": "python",
   "pygments_lexer": "ipython3",
   "version": "3.5.1"
  }
 },
 "nbformat": 4,
 "nbformat_minor": 2
}
